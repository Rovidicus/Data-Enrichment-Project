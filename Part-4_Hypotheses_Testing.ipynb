{
 "cells": [
  {
   "cell_type": "code",
   "execution_count": 2,
   "id": "b10e98d1-fb0e-440c-8e25-ea08878cc197",
   "metadata": {},
   "outputs": [],
   "source": [
    "# Necessary imports\n",
    "import pandas as pd\n",
    "import seaborn as sns\n",
    "import numpy as np\n",
    "# We want all columns displayed, setting output to 50 to be safe\n",
    "pd.set_option('display.max_columns',100)\n",
    "import os, time, json\n",
    "import tmdbsimple as tmdb\n",
    "from tqdm.notebook import tqdm_notebook"
   ]
  },
  {
   "cell_type": "code",
   "execution_count": 3,
   "id": "48795ec5-1e15-474b-a8f7-5e7a882be500",
   "metadata": {},
   "outputs": [
    {
     "data": {
      "text/plain": [
       "dict_keys(['API Key', 'Access Token'])"
      ]
     },
     "execution_count": 3,
     "metadata": {},
     "output_type": "execute_result"
    }
   ],
   "source": [
    "with open('/Users/Rovidicus/.secret/tmdb_api.json','r') as f:\n",
    "    login=json.load(f)\n",
    "login.keys()"
   ]
  },
  {
   "cell_type": "code",
   "execution_count": 4,
   "id": "6db7070d-2add-4791-9223-db73201a66a4",
   "metadata": {},
   "outputs": [],
   "source": [
    "import tmdbsimple as tmdb\n",
    "tmdb.API_KEY = login['API Key']"
   ]
  },
  {
   "cell_type": "code",
   "execution_count": 5,
   "id": "cd0b1d75-9fe8-4174-b2b0-7d4e5aa7cee2",
   "metadata": {},
   "outputs": [
    {
     "data": {
      "text/html": [
       "<div>\n",
       "<style scoped>\n",
       "    .dataframe tbody tr th:only-of-type {\n",
       "        vertical-align: middle;\n",
       "    }\n",
       "\n",
       "    .dataframe tbody tr th {\n",
       "        vertical-align: top;\n",
       "    }\n",
       "\n",
       "    .dataframe thead th {\n",
       "        text-align: right;\n",
       "    }\n",
       "</style>\n",
       "<table border=\"1\" class=\"dataframe\">\n",
       "  <thead>\n",
       "    <tr style=\"text-align: right;\">\n",
       "      <th></th>\n",
       "      <th>tconst</th>\n",
       "      <th>titleType</th>\n",
       "      <th>primaryTitle</th>\n",
       "      <th>originalTitle</th>\n",
       "      <th>isAdult</th>\n",
       "      <th>startYear</th>\n",
       "      <th>endYear</th>\n",
       "      <th>runtimeMinutes</th>\n",
       "      <th>genres</th>\n",
       "    </tr>\n",
       "  </thead>\n",
       "  <tbody>\n",
       "    <tr>\n",
       "      <th>0</th>\n",
       "      <td>tt0035423</td>\n",
       "      <td>movie</td>\n",
       "      <td>Kate &amp; Leopold</td>\n",
       "      <td>Kate &amp; Leopold</td>\n",
       "      <td>0</td>\n",
       "      <td>2001.0</td>\n",
       "      <td>NaN</td>\n",
       "      <td>118</td>\n",
       "      <td>Comedy,Fantasy,Romance</td>\n",
       "    </tr>\n",
       "    <tr>\n",
       "      <th>1</th>\n",
       "      <td>tt0062336</td>\n",
       "      <td>movie</td>\n",
       "      <td>The Tango of the Widower and Its Distorting Mi...</td>\n",
       "      <td>El tango del viudo y su espejo deformante</td>\n",
       "      <td>0</td>\n",
       "      <td>2020.0</td>\n",
       "      <td>NaN</td>\n",
       "      <td>70</td>\n",
       "      <td>Drama</td>\n",
       "    </tr>\n",
       "    <tr>\n",
       "      <th>2</th>\n",
       "      <td>tt0069049</td>\n",
       "      <td>movie</td>\n",
       "      <td>The Other Side of the Wind</td>\n",
       "      <td>The Other Side of the Wind</td>\n",
       "      <td>0</td>\n",
       "      <td>2018.0</td>\n",
       "      <td>NaN</td>\n",
       "      <td>122</td>\n",
       "      <td>Drama</td>\n",
       "    </tr>\n",
       "    <tr>\n",
       "      <th>3</th>\n",
       "      <td>tt0088751</td>\n",
       "      <td>movie</td>\n",
       "      <td>The Naked Monster</td>\n",
       "      <td>The Naked Monster</td>\n",
       "      <td>0</td>\n",
       "      <td>2005.0</td>\n",
       "      <td>NaN</td>\n",
       "      <td>100</td>\n",
       "      <td>Comedy,Horror,Sci-Fi</td>\n",
       "    </tr>\n",
       "    <tr>\n",
       "      <th>4</th>\n",
       "      <td>tt0096056</td>\n",
       "      <td>movie</td>\n",
       "      <td>Crime and Punishment</td>\n",
       "      <td>Crime and Punishment</td>\n",
       "      <td>0</td>\n",
       "      <td>2002.0</td>\n",
       "      <td>NaN</td>\n",
       "      <td>126</td>\n",
       "      <td>Drama</td>\n",
       "    </tr>\n",
       "  </tbody>\n",
       "</table>\n",
       "</div>"
      ],
      "text/plain": [
       "      tconst titleType                                       primaryTitle  \\\n",
       "0  tt0035423     movie                                     Kate & Leopold   \n",
       "1  tt0062336     movie  The Tango of the Widower and Its Distorting Mi...   \n",
       "2  tt0069049     movie                         The Other Side of the Wind   \n",
       "3  tt0088751     movie                                  The Naked Monster   \n",
       "4  tt0096056     movie                               Crime and Punishment   \n",
       "\n",
       "                               originalTitle  isAdult  startYear  endYear  \\\n",
       "0                             Kate & Leopold        0     2001.0      NaN   \n",
       "1  El tango del viudo y su espejo deformante        0     2020.0      NaN   \n",
       "2                 The Other Side of the Wind        0     2018.0      NaN   \n",
       "3                          The Naked Monster        0     2005.0      NaN   \n",
       "4                       Crime and Punishment        0     2002.0      NaN   \n",
       "\n",
       "   runtimeMinutes                  genres  \n",
       "0             118  Comedy,Fantasy,Romance  \n",
       "1              70                   Drama  \n",
       "2             122                   Drama  \n",
       "3             100    Comedy,Horror,Sci-Fi  \n",
       "4             126                   Drama  "
      ]
     },
     "execution_count": 5,
     "metadata": {},
     "output_type": "execute_result"
    }
   ],
   "source": [
    "basics=pd.read_csv('Data/basics.csv')\n",
    "basics.head()"
   ]
  },
  {
   "cell_type": "code",
   "execution_count": 6,
   "id": "de703a24-c2bb-4feb-ab11-06a7061891ef",
   "metadata": {},
   "outputs": [
    {
     "data": {
      "text/plain": [
       "['.ipynb_checkpoints',\n",
       " 'final_tmdb_data_2020.csv.gz',\n",
       " 'final_tmdb_data_2021.csv.gz',\n",
       " 'final_tmdb_data_2022.csv.gz',\n",
       " 'tmdb_api_results_2020.json',\n",
       " 'tmdb_api_results_2021.json',\n",
       " 'tmdb_api_results_2022.json',\n",
       " 'tmdb_results_postcovid.csv.gz']"
      ]
     },
     "execution_count": 6,
     "metadata": {},
     "output_type": "execute_result"
    }
   ],
   "source": [
    "FOLDER=\"Data/Hypothesis_Testing/\"\n",
    "os.makedirs(FOLDER, exist_ok=True)\n",
    "os.listdir(FOLDER)"
   ]
  },
  {
   "cell_type": "code",
   "execution_count": 7,
   "id": "14d8e83e-3f88-485d-89f3-da5f49f93d5b",
   "metadata": {},
   "outputs": [],
   "source": [
    "def get_movie_with_rating(movie_id):\n",
    "    movie = tmdb.Movies(movie_id)\n",
    "    \n",
    "    movie_info = movie.info()\n",
    "    releases = movie.releases()\n",
    "    \n",
    "    for c in releases['countries']:\n",
    "        if c['iso_3166_1' ] =='US':\n",
    "            movie_info['certification'] = c['certification']\n",
    "    return movie_info\n",
    "\n",
    "\n",
    "def write_json(new_data, filename): \n",
    "    \"\"\"Appends a list of records (new_data) to a json file (filename). \n",
    "    Adapted from: https://www.geeksforgeeks.org/append-to-json-file-using-python/\"\"\"  \n",
    "    \n",
    "    with open(filename,'r+') as file:\n",
    "        file_data = json.load(file)\n",
    "        if (type(new_data) == list) & (type(file_data) == list):\n",
    "            file_data.extend(new_data)\n",
    "        else:\n",
    "             file_data.append(new_data)\n",
    "        file.seek(0)\n",
    "        json.dump(file_data, file)"
   ]
  },
  {
   "cell_type": "code",
   "execution_count": 7,
   "id": "e0b8771e-ddcc-4f9d-94b7-6fb9df7bf2cd",
   "metadata": {},
   "outputs": [],
   "source": [
    "# We will retreive movie data on years from the pandemic to present\n",
    "YEARS_TO_GET=list(range(2020, 2023))"
   ]
  },
  {
   "cell_type": "code",
   "execution_count": 8,
   "id": "96f33468-014a-4c8a-b42a-8cb9cb032cab",
   "metadata": {},
   "outputs": [
    {
     "data": {
      "application/vnd.jupyter.widget-view+json": {
       "model_id": "a5abcfdbc9cd49ab9dc0e2b49645f513",
       "version_major": 2,
       "version_minor": 0
      },
      "text/plain": [
       "YEARS:   0%|          | 0/3 [00:00<?, ?it/s]"
      ]
     },
     "metadata": {},
     "output_type": "display_data"
    },
    {
     "name": "stdout",
     "output_type": "stream",
     "text": [
      "CreatingData/Hypothesis_Testing/tmdb_api_results_2020.json for API results for year = 2020.\n"
     ]
    },
    {
     "data": {
      "application/vnd.jupyter.widget-view+json": {
       "model_id": "07bd8f7bb8834fbfba31d474d9a7d231",
       "version_major": 2,
       "version_minor": 0
      },
      "text/plain": [
       "Movies from 2020:   0%|          | 0/5010 [00:00<?, ?it/s]"
      ]
     },
     "metadata": {},
     "output_type": "display_data"
    },
    {
     "name": "stdout",
     "output_type": "stream",
     "text": [
      "CreatingData/Hypothesis_Testing/tmdb_api_results_2021.json for API results for year = 2021.\n"
     ]
    },
    {
     "data": {
      "application/vnd.jupyter.widget-view+json": {
       "model_id": "82b9677f48cc4519b6a0ba2fcc1cbe84",
       "version_major": 2,
       "version_minor": 0
      },
      "text/plain": [
       "Movies from 2021:   0%|          | 0/5163 [00:00<?, ?it/s]"
      ]
     },
     "metadata": {},
     "output_type": "display_data"
    },
    {
     "name": "stdout",
     "output_type": "stream",
     "text": [
      "CreatingData/Hypothesis_Testing/tmdb_api_results_2022.json for API results for year = 2022.\n"
     ]
    },
    {
     "data": {
      "application/vnd.jupyter.widget-view+json": {
       "model_id": "7d1ebc127486465186bf23feec88b671",
       "version_major": 2,
       "version_minor": 0
      },
      "text/plain": [
       "Movies from 2022:   0%|          | 0/5073 [00:00<?, ?it/s]"
      ]
     },
     "metadata": {},
     "output_type": "display_data"
    }
   ],
   "source": [
    "# Start of OUTER loop\n",
    "for YEAR in tqdm_notebook(YEARS_TO_GET, desc='YEARS', position=0):\n",
    "    JSON_FILE_YEAR = f'{FOLDER}tmdb_api_results_{YEAR}.json'\n",
    "    file_exists = os.path.isfile(JSON_FILE_YEAR)\n",
    "\n",
    "    if file_exists == False:\n",
    "        print(f'Creating{JSON_FILE_YEAR} for API results for year = {YEAR}.')\n",
    "        with open (JSON_FILE_YEAR, 'w') as f:\n",
    "            json.dump([{'imdb_id':0}],f)\n",
    "\n",
    "    else:\n",
    "        print(f'The file {JSON_FILE_YEAR} already exists.')\n",
    "\n",
    "    df_year = basics.loc[basics['startYear'] == YEAR].copy()\n",
    "    movie_ids = df_year['tconst']\n",
    "        \n",
    "        # Create an empty list to store movie information\n",
    "    movie_info_list = []\n",
    "    errors=[]    \n",
    "        # Iterate over movie IDs for the current year\n",
    "    for movie_id in tqdm_notebook(movie_ids, f'Movies from {YEAR}'):\n",
    "        try:\n",
    "            temp = get_movie_with_rating(movie_id)\n",
    "            movie_info_list.append(temp)\n",
    "            time.sleep(0.02)\n",
    "        except Exception as e:\n",
    "            errors.append([movie_id, e])\n",
    "        \n",
    "        # Write the movie information to the JSON file\n",
    "    write_json(movie_info_list, JSON_FILE_YEAR)\n",
    "\n",
    "    final_year_df2 = pd.read_json(JSON_FILE_YEAR)\n",
    "    csv_fname = f'{FOLDER}final_tmdb_data_{YEAR}.csv.gz'\n",
    "    final_year_df2.to_csv(csv_fname, compression='gzip', index=False)"
   ]
  },
  {
   "cell_type": "code",
   "execution_count": 8,
   "id": "0f321f73-4471-4eaa-a721-07fbefaab635",
   "metadata": {},
   "outputs": [
    {
     "data": {
      "text/plain": [
       "['Data/Hypothesis_Testing\\\\final_tmdb_data_2020.csv.gz',\n",
       " 'Data/Hypothesis_Testing\\\\final_tmdb_data_2021.csv.gz',\n",
       " 'Data/Hypothesis_Testing\\\\final_tmdb_data_2022.csv.gz']"
      ]
     },
     "execution_count": 8,
     "metadata": {},
     "output_type": "execute_result"
    }
   ],
   "source": [
    "import glob\n",
    "# Use glob to get all filepaths that match the pattern (*=wildcard)\n",
    "tmdb_files = sorted(glob.glob(\"Data/Hypothesis_Testing/final_tmdb_data*.csv.gz\"))\n",
    "tmdb_files"
   ]
  },
  {
   "cell_type": "code",
   "execution_count": 9,
   "id": "12cf68fa-0ca5-4db7-8fb8-d76145498f21",
   "metadata": {},
   "outputs": [
    {
     "data": {
      "text/html": [
       "<div>\n",
       "<style scoped>\n",
       "    .dataframe tbody tr th:only-of-type {\n",
       "        vertical-align: middle;\n",
       "    }\n",
       "\n",
       "    .dataframe tbody tr th {\n",
       "        vertical-align: top;\n",
       "    }\n",
       "\n",
       "    .dataframe thead th {\n",
       "        text-align: right;\n",
       "    }\n",
       "</style>\n",
       "<table border=\"1\" class=\"dataframe\">\n",
       "  <thead>\n",
       "    <tr style=\"text-align: right;\">\n",
       "      <th></th>\n",
       "      <th>imdb_id</th>\n",
       "      <th>adult</th>\n",
       "      <th>backdrop_path</th>\n",
       "      <th>belongs_to_collection</th>\n",
       "      <th>budget</th>\n",
       "      <th>genres</th>\n",
       "      <th>homepage</th>\n",
       "      <th>id</th>\n",
       "      <th>original_language</th>\n",
       "      <th>original_title</th>\n",
       "      <th>overview</th>\n",
       "      <th>popularity</th>\n",
       "      <th>poster_path</th>\n",
       "      <th>production_companies</th>\n",
       "      <th>production_countries</th>\n",
       "      <th>release_date</th>\n",
       "      <th>revenue</th>\n",
       "      <th>runtime</th>\n",
       "      <th>spoken_languages</th>\n",
       "      <th>status</th>\n",
       "      <th>tagline</th>\n",
       "      <th>title</th>\n",
       "      <th>video</th>\n",
       "      <th>vote_average</th>\n",
       "      <th>vote_count</th>\n",
       "      <th>certification</th>\n",
       "    </tr>\n",
       "  </thead>\n",
       "  <tbody>\n",
       "    <tr>\n",
       "      <th>0</th>\n",
       "      <td>0</td>\n",
       "      <td>NaN</td>\n",
       "      <td>NaN</td>\n",
       "      <td>NaN</td>\n",
       "      <td>NaN</td>\n",
       "      <td>NaN</td>\n",
       "      <td>NaN</td>\n",
       "      <td>NaN</td>\n",
       "      <td>NaN</td>\n",
       "      <td>NaN</td>\n",
       "      <td>NaN</td>\n",
       "      <td>NaN</td>\n",
       "      <td>NaN</td>\n",
       "      <td>NaN</td>\n",
       "      <td>NaN</td>\n",
       "      <td>NaN</td>\n",
       "      <td>NaN</td>\n",
       "      <td>NaN</td>\n",
       "      <td>NaN</td>\n",
       "      <td>NaN</td>\n",
       "      <td>NaN</td>\n",
       "      <td>NaN</td>\n",
       "      <td>NaN</td>\n",
       "      <td>NaN</td>\n",
       "      <td>NaN</td>\n",
       "      <td>NaN</td>\n",
       "    </tr>\n",
       "    <tr>\n",
       "      <th>1</th>\n",
       "      <td>tt0062336</td>\n",
       "      <td>0.0</td>\n",
       "      <td>/fw5tsNib4QZBEw18xmebpVe3WZ8.jpg</td>\n",
       "      <td>NaN</td>\n",
       "      <td>0.0</td>\n",
       "      <td>[{'id': 18, 'name': 'Drama'}, {'id': 14, 'name...</td>\n",
       "      <td>http://poetastros.com/el-tango-del-viudo/</td>\n",
       "      <td>602986.0</td>\n",
       "      <td>es</td>\n",
       "      <td>El tango del viudo y su espejo deformante</td>\n",
       "      <td>A man whose wife has committed suicide,  appea...</td>\n",
       "      <td>11.320</td>\n",
       "      <td>/yzbqP9woGq2wGUJh0DzVXlr3Th7.jpg</td>\n",
       "      <td>[{'id': 96241, 'logo_path': None, 'name': 'Poe...</td>\n",
       "      <td>[{'iso_3166_1': 'CL', 'name': 'Chile'}]</td>\n",
       "      <td>2020-02-21</td>\n",
       "      <td>0.0</td>\n",
       "      <td>63.0</td>\n",
       "      <td>[{'english_name': 'Spanish', 'iso_639_1': 'es'...</td>\n",
       "      <td>Released</td>\n",
       "      <td>NaN</td>\n",
       "      <td>The Tango of the Widower and Its Distorting Mi...</td>\n",
       "      <td>0.0</td>\n",
       "      <td>6.200</td>\n",
       "      <td>6.0</td>\n",
       "      <td>NaN</td>\n",
       "    </tr>\n",
       "    <tr>\n",
       "      <th>2</th>\n",
       "      <td>tt0805647</td>\n",
       "      <td>0.0</td>\n",
       "      <td>/8rIoyM6zYXJNjzGseT3MRusMPWl.jpg</td>\n",
       "      <td>NaN</td>\n",
       "      <td>0.0</td>\n",
       "      <td>[{'id': 10751, 'name': 'Family'}, {'id': 35, '...</td>\n",
       "      <td>https://www.thewitchesmovie.net/</td>\n",
       "      <td>531219.0</td>\n",
       "      <td>en</td>\n",
       "      <td>Roald Dahl's The Witches</td>\n",
       "      <td>In late 1967, a young orphaned boy goes to liv...</td>\n",
       "      <td>81.574</td>\n",
       "      <td>/ht6EfsM5hrsUPSR4ReJQFDVU71F.jpg</td>\n",
       "      <td>[{'id': 11395, 'logo_path': '/5vSBzUwnCcaF90ZT...</td>\n",
       "      <td>[{'iso_3166_1': 'US', 'name': 'United States o...</td>\n",
       "      <td>2020-10-26</td>\n",
       "      <td>29303571.0</td>\n",
       "      <td>106.0</td>\n",
       "      <td>[{'english_name': 'English', 'iso_639_1': 'en'...</td>\n",
       "      <td>Released</td>\n",
       "      <td>They're real!</td>\n",
       "      <td>Roald Dahl's The Witches</td>\n",
       "      <td>0.0</td>\n",
       "      <td>6.386</td>\n",
       "      <td>2623.0</td>\n",
       "      <td>PG</td>\n",
       "    </tr>\n",
       "    <tr>\n",
       "      <th>3</th>\n",
       "      <td>tt0920462</td>\n",
       "      <td>0.0</td>\n",
       "      <td>/7GZ60FQuzejs73tfoBDFpCR21Iv.jpg</td>\n",
       "      <td>NaN</td>\n",
       "      <td>0.0</td>\n",
       "      <td>[{'id': 18, 'name': 'Drama'}]</td>\n",
       "      <td>https://www.lostgirlslovehotels.film</td>\n",
       "      <td>479259.0</td>\n",
       "      <td>en</td>\n",
       "      <td>Lost Girls &amp; Love Hotels</td>\n",
       "      <td>Searching for escape in Tokyo's back alleys, a...</td>\n",
       "      <td>18.454</td>\n",
       "      <td>/vQgXwuJrlpzGDI8169tRQRy71Nv.jpg</td>\n",
       "      <td>[{'id': 136892, 'logo_path': None, 'name': 'Wa...</td>\n",
       "      <td>[{'iso_3166_1': 'JP', 'name': 'Japan'}, {'iso_...</td>\n",
       "      <td>2020-09-18</td>\n",
       "      <td>106045.0</td>\n",
       "      <td>97.0</td>\n",
       "      <td>[{'english_name': 'English', 'iso_639_1': 'en'...</td>\n",
       "      <td>Released</td>\n",
       "      <td>NaN</td>\n",
       "      <td>Lost Girls &amp; Love Hotels</td>\n",
       "      <td>0.0</td>\n",
       "      <td>5.400</td>\n",
       "      <td>157.0</td>\n",
       "      <td>R</td>\n",
       "    </tr>\n",
       "    <tr>\n",
       "      <th>4</th>\n",
       "      <td>tt0926132</td>\n",
       "      <td>0.0</td>\n",
       "      <td>/op14w44FvLUqH7TWyT1ijzrSfXV.jpg</td>\n",
       "      <td>NaN</td>\n",
       "      <td>0.0</td>\n",
       "      <td>[{'id': 27, 'name': 'Horror'}]</td>\n",
       "      <td>http://www.roadtored.com</td>\n",
       "      <td>651448.0</td>\n",
       "      <td>en</td>\n",
       "      <td>Darkslide</td>\n",
       "      <td>High in the Sierra Nevada Mountains of Califor...</td>\n",
       "      <td>1.337</td>\n",
       "      <td>/tBrm4WCJu2Pybdw63qi2hoQtBSl.jpg</td>\n",
       "      <td>[{'id': 156711, 'logo_path': None, 'name': 'Wo...</td>\n",
       "      <td>[{'iso_3166_1': 'US', 'name': 'United States o...</td>\n",
       "      <td>2016-11-17</td>\n",
       "      <td>0.0</td>\n",
       "      <td>121.0</td>\n",
       "      <td>[{'english_name': 'English', 'iso_639_1': 'en'...</td>\n",
       "      <td>Released</td>\n",
       "      <td>Keep Moving or Die</td>\n",
       "      <td>Darkslide</td>\n",
       "      <td>0.0</td>\n",
       "      <td>5.200</td>\n",
       "      <td>5.0</td>\n",
       "      <td>NaN</td>\n",
       "    </tr>\n",
       "    <tr>\n",
       "      <th>5</th>\n",
       "      <td>tt0983946</td>\n",
       "      <td>0.0</td>\n",
       "      <td>/dzfiE2VHY362dGI62XfZ2iI87CT.jpg</td>\n",
       "      <td>NaN</td>\n",
       "      <td>7000000.0</td>\n",
       "      <td>[{'id': 27, 'name': 'Horror'}, {'id': 14, 'nam...</td>\n",
       "      <td>NaN</td>\n",
       "      <td>539537.0</td>\n",
       "      <td>en</td>\n",
       "      <td>Fantasy Island</td>\n",
       "      <td>A group of contest winners arrive at an island...</td>\n",
       "      <td>20.012</td>\n",
       "      <td>/8ZMrZGGW65ePWIgRn1260nA1uUm.jpg</td>\n",
       "      <td>[{'id': 3172, 'logo_path': '/rzKluDcRkIwHZK2pH...</td>\n",
       "      <td>[{'iso_3166_1': 'US', 'name': 'United States o...</td>\n",
       "      <td>2020-02-12</td>\n",
       "      <td>49500000.0</td>\n",
       "      <td>109.0</td>\n",
       "      <td>[{'english_name': 'English', 'iso_639_1': 'en'...</td>\n",
       "      <td>Released</td>\n",
       "      <td>Never coming home</td>\n",
       "      <td>Fantasy Island</td>\n",
       "      <td>0.0</td>\n",
       "      <td>5.832</td>\n",
       "      <td>2281.0</td>\n",
       "      <td>PG-13</td>\n",
       "    </tr>\n",
       "    <tr>\n",
       "      <th>6</th>\n",
       "      <td>tt10003008</td>\n",
       "      <td>0.0</td>\n",
       "      <td>/iUO9o85kXRD9H8E6qZ6j9Z7UwEf.jpg</td>\n",
       "      <td>NaN</td>\n",
       "      <td>0.0</td>\n",
       "      <td>[{'id': 27, 'name': 'Horror'}, {'id': 9648, 'n...</td>\n",
       "      <td>NaN</td>\n",
       "      <td>587496.0</td>\n",
       "      <td>en</td>\n",
       "      <td>The Rental</td>\n",
       "      <td>Two couples on an oceanside getaway grow suspi...</td>\n",
       "      <td>38.947</td>\n",
       "      <td>/3ynPnBXQVT2Y0s19fDIPlWKUlxH.jpg</td>\n",
       "      <td>[{'id': 22146, 'logo_path': '/jPBtpMh0AUFqf9yf...</td>\n",
       "      <td>[{'iso_3166_1': 'US', 'name': 'United States o...</td>\n",
       "      <td>2020-07-23</td>\n",
       "      <td>4296804.0</td>\n",
       "      <td>88.0</td>\n",
       "      <td>[{'english_name': 'English', 'iso_639_1': 'en'...</td>\n",
       "      <td>Released</td>\n",
       "      <td>Secluded getaway. Killer views.</td>\n",
       "      <td>The Rental</td>\n",
       "      <td>0.0</td>\n",
       "      <td>5.500</td>\n",
       "      <td>801.0</td>\n",
       "      <td>R</td>\n",
       "    </tr>\n",
       "    <tr>\n",
       "      <th>7</th>\n",
       "      <td>tt10003614</td>\n",
       "      <td>0.0</td>\n",
       "      <td>NaN</td>\n",
       "      <td>NaN</td>\n",
       "      <td>0.0</td>\n",
       "      <td>[]</td>\n",
       "      <td>NaN</td>\n",
       "      <td>920050.0</td>\n",
       "      <td>en</td>\n",
       "      <td>The Metamorphosis of Ismaila Ba</td>\n",
       "      <td>The Metamorphosis of Ismaila Ba is the story o...</td>\n",
       "      <td>0.600</td>\n",
       "      <td>/rDEeddnvIWDznO1yQtxndpactS8.jpg</td>\n",
       "      <td>[]</td>\n",
       "      <td>[]</td>\n",
       "      <td>NaN</td>\n",
       "      <td>0.0</td>\n",
       "      <td>60.0</td>\n",
       "      <td>[]</td>\n",
       "      <td>Released</td>\n",
       "      <td>NaN</td>\n",
       "      <td>The Metamorphosis of Ismaila Ba</td>\n",
       "      <td>0.0</td>\n",
       "      <td>5.000</td>\n",
       "      <td>1.0</td>\n",
       "      <td>NaN</td>\n",
       "    </tr>\n",
       "    <tr>\n",
       "      <th>8</th>\n",
       "      <td>tt10003994</td>\n",
       "      <td>0.0</td>\n",
       "      <td>/o5Pn1sKd4rei5TTVlvoYHgs7C90.jpg</td>\n",
       "      <td>NaN</td>\n",
       "      <td>0.0</td>\n",
       "      <td>[{'id': 27, 'name': 'Horror'}, {'id': 53, 'nam...</td>\n",
       "      <td>NaN</td>\n",
       "      <td>742433.0</td>\n",
       "      <td>en</td>\n",
       "      <td>Seeds</td>\n",
       "      <td>A grieving mother holds onto her Catholic fait...</td>\n",
       "      <td>1.385</td>\n",
       "      <td>/x3dfw5JtAQoFVmQU3SRtKmjbg3d.jpg</td>\n",
       "      <td>[]</td>\n",
       "      <td>[]</td>\n",
       "      <td>2020-08-30</td>\n",
       "      <td>0.0</td>\n",
       "      <td>93.0</td>\n",
       "      <td>[{'english_name': 'English', 'iso_639_1': 'en'...</td>\n",
       "      <td>Released</td>\n",
       "      <td>In this circle we plant the Seeds, in this cir...</td>\n",
       "      <td>Seeds</td>\n",
       "      <td>0.0</td>\n",
       "      <td>2.000</td>\n",
       "      <td>1.0</td>\n",
       "      <td>NaN</td>\n",
       "    </tr>\n",
       "    <tr>\n",
       "      <th>9</th>\n",
       "      <td>tt10004108</td>\n",
       "      <td>0.0</td>\n",
       "      <td>/v0bFTXnLNh9cjvpIckJpIM2t9nf.jpg</td>\n",
       "      <td>NaN</td>\n",
       "      <td>0.0</td>\n",
       "      <td>[{'id': 27, 'name': 'Horror'}]</td>\n",
       "      <td>NaN</td>\n",
       "      <td>631583.0</td>\n",
       "      <td>en</td>\n",
       "      <td>Sacrifice</td>\n",
       "      <td>Isaac and his pregnant wife visit a remote Nor...</td>\n",
       "      <td>15.109</td>\n",
       "      <td>/xXI5Lg6mJLEesTggRJBrq50vrqU.jpg</td>\n",
       "      <td>[{'id': 96244, 'logo_path': None, 'name': 'Hyd...</td>\n",
       "      <td>[{'iso_3166_1': 'GB', 'name': 'United Kingdom'}]</td>\n",
       "      <td>2021-02-09</td>\n",
       "      <td>0.0</td>\n",
       "      <td>87.0</td>\n",
       "      <td>[{'english_name': 'English', 'iso_639_1': 'en'...</td>\n",
       "      <td>Released</td>\n",
       "      <td>Dream Well</td>\n",
       "      <td>Sacrifice</td>\n",
       "      <td>0.0</td>\n",
       "      <td>4.600</td>\n",
       "      <td>34.0</td>\n",
       "      <td>R</td>\n",
       "    </tr>\n",
       "  </tbody>\n",
       "</table>\n",
       "</div>"
      ],
      "text/plain": [
       "      imdb_id  adult                     backdrop_path belongs_to_collection  \\\n",
       "0           0    NaN                               NaN                   NaN   \n",
       "1   tt0062336    0.0  /fw5tsNib4QZBEw18xmebpVe3WZ8.jpg                   NaN   \n",
       "2   tt0805647    0.0  /8rIoyM6zYXJNjzGseT3MRusMPWl.jpg                   NaN   \n",
       "3   tt0920462    0.0  /7GZ60FQuzejs73tfoBDFpCR21Iv.jpg                   NaN   \n",
       "4   tt0926132    0.0  /op14w44FvLUqH7TWyT1ijzrSfXV.jpg                   NaN   \n",
       "5   tt0983946    0.0  /dzfiE2VHY362dGI62XfZ2iI87CT.jpg                   NaN   \n",
       "6  tt10003008    0.0  /iUO9o85kXRD9H8E6qZ6j9Z7UwEf.jpg                   NaN   \n",
       "7  tt10003614    0.0                               NaN                   NaN   \n",
       "8  tt10003994    0.0  /o5Pn1sKd4rei5TTVlvoYHgs7C90.jpg                   NaN   \n",
       "9  tt10004108    0.0  /v0bFTXnLNh9cjvpIckJpIM2t9nf.jpg                   NaN   \n",
       "\n",
       "      budget                                             genres  \\\n",
       "0        NaN                                                NaN   \n",
       "1        0.0  [{'id': 18, 'name': 'Drama'}, {'id': 14, 'name...   \n",
       "2        0.0  [{'id': 10751, 'name': 'Family'}, {'id': 35, '...   \n",
       "3        0.0                      [{'id': 18, 'name': 'Drama'}]   \n",
       "4        0.0                     [{'id': 27, 'name': 'Horror'}]   \n",
       "5  7000000.0  [{'id': 27, 'name': 'Horror'}, {'id': 14, 'nam...   \n",
       "6        0.0  [{'id': 27, 'name': 'Horror'}, {'id': 9648, 'n...   \n",
       "7        0.0                                                 []   \n",
       "8        0.0  [{'id': 27, 'name': 'Horror'}, {'id': 53, 'nam...   \n",
       "9        0.0                     [{'id': 27, 'name': 'Horror'}]   \n",
       "\n",
       "                                    homepage        id original_language  \\\n",
       "0                                        NaN       NaN               NaN   \n",
       "1  http://poetastros.com/el-tango-del-viudo/  602986.0                es   \n",
       "2           https://www.thewitchesmovie.net/  531219.0                en   \n",
       "3       https://www.lostgirlslovehotels.film  479259.0                en   \n",
       "4                   http://www.roadtored.com  651448.0                en   \n",
       "5                                        NaN  539537.0                en   \n",
       "6                                        NaN  587496.0                en   \n",
       "7                                        NaN  920050.0                en   \n",
       "8                                        NaN  742433.0                en   \n",
       "9                                        NaN  631583.0                en   \n",
       "\n",
       "                              original_title  \\\n",
       "0                                        NaN   \n",
       "1  El tango del viudo y su espejo deformante   \n",
       "2                   Roald Dahl's The Witches   \n",
       "3                   Lost Girls & Love Hotels   \n",
       "4                                  Darkslide   \n",
       "5                             Fantasy Island   \n",
       "6                                 The Rental   \n",
       "7            The Metamorphosis of Ismaila Ba   \n",
       "8                                      Seeds   \n",
       "9                                  Sacrifice   \n",
       "\n",
       "                                            overview  popularity  \\\n",
       "0                                                NaN         NaN   \n",
       "1  A man whose wife has committed suicide,  appea...      11.320   \n",
       "2  In late 1967, a young orphaned boy goes to liv...      81.574   \n",
       "3  Searching for escape in Tokyo's back alleys, a...      18.454   \n",
       "4  High in the Sierra Nevada Mountains of Califor...       1.337   \n",
       "5  A group of contest winners arrive at an island...      20.012   \n",
       "6  Two couples on an oceanside getaway grow suspi...      38.947   \n",
       "7  The Metamorphosis of Ismaila Ba is the story o...       0.600   \n",
       "8  A grieving mother holds onto her Catholic fait...       1.385   \n",
       "9  Isaac and his pregnant wife visit a remote Nor...      15.109   \n",
       "\n",
       "                        poster_path  \\\n",
       "0                               NaN   \n",
       "1  /yzbqP9woGq2wGUJh0DzVXlr3Th7.jpg   \n",
       "2  /ht6EfsM5hrsUPSR4ReJQFDVU71F.jpg   \n",
       "3  /vQgXwuJrlpzGDI8169tRQRy71Nv.jpg   \n",
       "4  /tBrm4WCJu2Pybdw63qi2hoQtBSl.jpg   \n",
       "5  /8ZMrZGGW65ePWIgRn1260nA1uUm.jpg   \n",
       "6  /3ynPnBXQVT2Y0s19fDIPlWKUlxH.jpg   \n",
       "7  /rDEeddnvIWDznO1yQtxndpactS8.jpg   \n",
       "8  /x3dfw5JtAQoFVmQU3SRtKmjbg3d.jpg   \n",
       "9  /xXI5Lg6mJLEesTggRJBrq50vrqU.jpg   \n",
       "\n",
       "                                production_companies  \\\n",
       "0                                                NaN   \n",
       "1  [{'id': 96241, 'logo_path': None, 'name': 'Poe...   \n",
       "2  [{'id': 11395, 'logo_path': '/5vSBzUwnCcaF90ZT...   \n",
       "3  [{'id': 136892, 'logo_path': None, 'name': 'Wa...   \n",
       "4  [{'id': 156711, 'logo_path': None, 'name': 'Wo...   \n",
       "5  [{'id': 3172, 'logo_path': '/rzKluDcRkIwHZK2pH...   \n",
       "6  [{'id': 22146, 'logo_path': '/jPBtpMh0AUFqf9yf...   \n",
       "7                                                 []   \n",
       "8                                                 []   \n",
       "9  [{'id': 96244, 'logo_path': None, 'name': 'Hyd...   \n",
       "\n",
       "                                production_countries release_date     revenue  \\\n",
       "0                                                NaN          NaN         NaN   \n",
       "1            [{'iso_3166_1': 'CL', 'name': 'Chile'}]   2020-02-21         0.0   \n",
       "2  [{'iso_3166_1': 'US', 'name': 'United States o...   2020-10-26  29303571.0   \n",
       "3  [{'iso_3166_1': 'JP', 'name': 'Japan'}, {'iso_...   2020-09-18    106045.0   \n",
       "4  [{'iso_3166_1': 'US', 'name': 'United States o...   2016-11-17         0.0   \n",
       "5  [{'iso_3166_1': 'US', 'name': 'United States o...   2020-02-12  49500000.0   \n",
       "6  [{'iso_3166_1': 'US', 'name': 'United States o...   2020-07-23   4296804.0   \n",
       "7                                                 []          NaN         0.0   \n",
       "8                                                 []   2020-08-30         0.0   \n",
       "9   [{'iso_3166_1': 'GB', 'name': 'United Kingdom'}]   2021-02-09         0.0   \n",
       "\n",
       "   runtime                                   spoken_languages    status  \\\n",
       "0      NaN                                                NaN       NaN   \n",
       "1     63.0  [{'english_name': 'Spanish', 'iso_639_1': 'es'...  Released   \n",
       "2    106.0  [{'english_name': 'English', 'iso_639_1': 'en'...  Released   \n",
       "3     97.0  [{'english_name': 'English', 'iso_639_1': 'en'...  Released   \n",
       "4    121.0  [{'english_name': 'English', 'iso_639_1': 'en'...  Released   \n",
       "5    109.0  [{'english_name': 'English', 'iso_639_1': 'en'...  Released   \n",
       "6     88.0  [{'english_name': 'English', 'iso_639_1': 'en'...  Released   \n",
       "7     60.0                                                 []  Released   \n",
       "8     93.0  [{'english_name': 'English', 'iso_639_1': 'en'...  Released   \n",
       "9     87.0  [{'english_name': 'English', 'iso_639_1': 'en'...  Released   \n",
       "\n",
       "                                             tagline  \\\n",
       "0                                                NaN   \n",
       "1                                                NaN   \n",
       "2                                      They're real!   \n",
       "3                                                NaN   \n",
       "4                                 Keep Moving or Die   \n",
       "5                                  Never coming home   \n",
       "6                    Secluded getaway. Killer views.   \n",
       "7                                                NaN   \n",
       "8  In this circle we plant the Seeds, in this cir...   \n",
       "9                                         Dream Well   \n",
       "\n",
       "                                               title  video  vote_average  \\\n",
       "0                                                NaN    NaN           NaN   \n",
       "1  The Tango of the Widower and Its Distorting Mi...    0.0         6.200   \n",
       "2                           Roald Dahl's The Witches    0.0         6.386   \n",
       "3                           Lost Girls & Love Hotels    0.0         5.400   \n",
       "4                                          Darkslide    0.0         5.200   \n",
       "5                                     Fantasy Island    0.0         5.832   \n",
       "6                                         The Rental    0.0         5.500   \n",
       "7                    The Metamorphosis of Ismaila Ba    0.0         5.000   \n",
       "8                                              Seeds    0.0         2.000   \n",
       "9                                          Sacrifice    0.0         4.600   \n",
       "\n",
       "   vote_count certification  \n",
       "0         NaN           NaN  \n",
       "1         6.0           NaN  \n",
       "2      2623.0            PG  \n",
       "3       157.0             R  \n",
       "4         5.0           NaN  \n",
       "5      2281.0         PG-13  \n",
       "6       801.0             R  \n",
       "7         1.0           NaN  \n",
       "8         1.0           NaN  \n",
       "9        34.0             R  "
      ]
     },
     "execution_count": 9,
     "metadata": {},
     "output_type": "execute_result"
    }
   ],
   "source": [
    "# Use read_csv in a list comprehension and combine with concat to load all files\n",
    "df = pd.concat([pd.read_csv(f) for f in tmdb_files] )\n",
    "df.head(10)"
   ]
  },
  {
   "cell_type": "code",
   "execution_count": 10,
   "id": "cf787d56-1c6f-4c8c-ba89-9faf78a17c43",
   "metadata": {},
   "outputs": [],
   "source": [
    "#Save final merged csv as 'tmdb_results_combined.csv.gz'\n",
    "fname = f'{FOLDER}tmdb_results_postcovid.csv.gz'\n",
    "df.to_csv(fname, compression='gzip',index=False)"
   ]
  },
  {
   "cell_type": "markdown",
   "id": "d55d1b4f-deaf-4347-9aa1-3ea53f1a436f",
   "metadata": {},
   "source": [
    "1. Does the MPAA rating of a movie (G/PG/PG-13/R) affect how much revenue the movie generates?"
   ]
  },
  {
   "cell_type": "code",
   "execution_count": 11,
   "id": "5ee3384a-490b-4efd-8938-c9defccf5ea2",
   "metadata": {},
   "outputs": [],
   "source": [
    "# We are dealing with several variables and a numeric problem (revenue)\n",
    "# An analysis of variance (ANOVA) will be useful here\n",
    "import matplotlib.pyplot as plt\n",
    "import scipy.stats as stats"
   ]
  },
  {
   "cell_type": "code",
   "execution_count": 12,
   "id": "a66ff043-dc56-4f41-b776-dd4dfd3aa15b",
   "metadata": {},
   "outputs": [
    {
     "data": {
      "image/png": "[encoded data removed]",
      "text/plain": [
       "<Figure size 640x480 with 1 Axes>"
      ]
     },
     "metadata": {},
     "output_type": "display_data"
    }
   ],
   "source": [
    "# Let's visualize our revenues per genre\n",
    "sns.barplot(df, x = 'certification', y = 'revenue');"
   ]
  },
  {
   "cell_type": "code",
   "execution_count": 13,
   "id": "85bb1ca3-9f34-4314-b01f-bab3a8a92656",
   "metadata": {},
   "outputs": [
    {
     "data": {
      "text/plain": [
       "R        858\n",
       "NR       751\n",
       "PG-13    412\n",
       "PG       229\n",
       "G         77\n",
       "NC-17     31\n",
       "Name: certification, dtype: int64"
      ]
     },
     "execution_count": 13,
     "metadata": {},
     "output_type": "execute_result"
    }
   ],
   "source": [
    "df['certification'].value_counts()"
   ]
  },
  {
   "cell_type": "code",
   "execution_count": 14,
   "id": "4fe865cb-d3d7-40f8-af12-0a66cf4f753b",
   "metadata": {},
   "outputs": [],
   "source": [
    "nn = df.copy()"
   ]
  },
  {
   "cell_type": "code",
   "execution_count": 15,
   "id": "2ac1a9f5-1aaf-4e42-bbc4-a481e1ca0a0b",
   "metadata": {},
   "outputs": [
    {
     "data": {
      "text/html": [
       "<div>\n",
       "<style scoped>\n",
       "    .dataframe tbody tr th:only-of-type {\n",
       "        vertical-align: middle;\n",
       "    }\n",
       "\n",
       "    .dataframe tbody tr th {\n",
       "        vertical-align: top;\n",
       "    }\n",
       "\n",
       "    .dataframe thead th {\n",
       "        text-align: right;\n",
       "    }\n",
       "</style>\n",
       "<table border=\"1\" class=\"dataframe\">\n",
       "  <thead>\n",
       "    <tr style=\"text-align: right;\">\n",
       "      <th></th>\n",
       "      <th>imdb_id</th>\n",
       "      <th>adult</th>\n",
       "      <th>backdrop_path</th>\n",
       "      <th>belongs_to_collection</th>\n",
       "      <th>budget</th>\n",
       "      <th>genres</th>\n",
       "      <th>homepage</th>\n",
       "      <th>id</th>\n",
       "      <th>original_language</th>\n",
       "      <th>original_title</th>\n",
       "      <th>overview</th>\n",
       "      <th>popularity</th>\n",
       "      <th>poster_path</th>\n",
       "      <th>production_companies</th>\n",
       "      <th>production_countries</th>\n",
       "      <th>release_date</th>\n",
       "      <th>revenue</th>\n",
       "      <th>runtime</th>\n",
       "      <th>spoken_languages</th>\n",
       "      <th>status</th>\n",
       "      <th>tagline</th>\n",
       "      <th>title</th>\n",
       "      <th>video</th>\n",
       "      <th>vote_average</th>\n",
       "      <th>vote_count</th>\n",
       "      <th>certification</th>\n",
       "    </tr>\n",
       "  </thead>\n",
       "  <tbody>\n",
       "    <tr>\n",
       "      <th>2</th>\n",
       "      <td>tt0805647</td>\n",
       "      <td>0.0</td>\n",
       "      <td>/8rIoyM6zYXJNjzGseT3MRusMPWl.jpg</td>\n",
       "      <td>NaN</td>\n",
       "      <td>0.0</td>\n",
       "      <td>[{'id': 10751, 'name': 'Family'}, {'id': 35, '...</td>\n",
       "      <td>https://www.thewitchesmovie.net/</td>\n",
       "      <td>531219.0</td>\n",
       "      <td>en</td>\n",
       "      <td>Roald Dahl's The Witches</td>\n",
       "      <td>In late 1967, a young orphaned boy goes to liv...</td>\n",
       "      <td>81.574</td>\n",
       "      <td>/ht6EfsM5hrsUPSR4ReJQFDVU71F.jpg</td>\n",
       "      <td>[{'id': 11395, 'logo_path': '/5vSBzUwnCcaF90ZT...</td>\n",
       "      <td>[{'iso_3166_1': 'US', 'name': 'United States o...</td>\n",
       "      <td>2020-10-26</td>\n",
       "      <td>29303571.0</td>\n",
       "      <td>106.0</td>\n",
       "      <td>[{'english_name': 'English', 'iso_639_1': 'en'...</td>\n",
       "      <td>Released</td>\n",
       "      <td>They're real!</td>\n",
       "      <td>Roald Dahl's The Witches</td>\n",
       "      <td>0.0</td>\n",
       "      <td>6.386</td>\n",
       "      <td>2623.0</td>\n",
       "      <td>PG</td>\n",
       "    </tr>\n",
       "    <tr>\n",
       "      <th>3</th>\n",
       "      <td>tt0920462</td>\n",
       "      <td>0.0</td>\n",
       "      <td>/7GZ60FQuzejs73tfoBDFpCR21Iv.jpg</td>\n",
       "      <td>NaN</td>\n",
       "      <td>0.0</td>\n",
       "      <td>[{'id': 18, 'name': 'Drama'}]</td>\n",
       "      <td>https://www.lostgirlslovehotels.film</td>\n",
       "      <td>479259.0</td>\n",
       "      <td>en</td>\n",
       "      <td>Lost Girls &amp; Love Hotels</td>\n",
       "      <td>Searching for escape in Tokyo's back alleys, a...</td>\n",
       "      <td>18.454</td>\n",
       "      <td>/vQgXwuJrlpzGDI8169tRQRy71Nv.jpg</td>\n",
       "      <td>[{'id': 136892, 'logo_path': None, 'name': 'Wa...</td>\n",
       "      <td>[{'iso_3166_1': 'JP', 'name': 'Japan'}, {'iso_...</td>\n",
       "      <td>2020-09-18</td>\n",
       "      <td>106045.0</td>\n",
       "      <td>97.0</td>\n",
       "      <td>[{'english_name': 'English', 'iso_639_1': 'en'...</td>\n",
       "      <td>Released</td>\n",
       "      <td>NaN</td>\n",
       "      <td>Lost Girls &amp; Love Hotels</td>\n",
       "      <td>0.0</td>\n",
       "      <td>5.400</td>\n",
       "      <td>157.0</td>\n",
       "      <td>R</td>\n",
       "    </tr>\n",
       "    <tr>\n",
       "      <th>5</th>\n",
       "      <td>tt0983946</td>\n",
       "      <td>0.0</td>\n",
       "      <td>/dzfiE2VHY362dGI62XfZ2iI87CT.jpg</td>\n",
       "      <td>NaN</td>\n",
       "      <td>7000000.0</td>\n",
       "      <td>[{'id': 27, 'name': 'Horror'}, {'id': 14, 'nam...</td>\n",
       "      <td>NaN</td>\n",
       "      <td>539537.0</td>\n",
       "      <td>en</td>\n",
       "      <td>Fantasy Island</td>\n",
       "      <td>A group of contest winners arrive at an island...</td>\n",
       "      <td>20.012</td>\n",
       "      <td>/8ZMrZGGW65ePWIgRn1260nA1uUm.jpg</td>\n",
       "      <td>[{'id': 3172, 'logo_path': '/rzKluDcRkIwHZK2pH...</td>\n",
       "      <td>[{'iso_3166_1': 'US', 'name': 'United States o...</td>\n",
       "      <td>2020-02-12</td>\n",
       "      <td>49500000.0</td>\n",
       "      <td>109.0</td>\n",
       "      <td>[{'english_name': 'English', 'iso_639_1': 'en'...</td>\n",
       "      <td>Released</td>\n",
       "      <td>Never coming home</td>\n",
       "      <td>Fantasy Island</td>\n",
       "      <td>0.0</td>\n",
       "      <td>5.832</td>\n",
       "      <td>2281.0</td>\n",
       "      <td>PG-13</td>\n",
       "    </tr>\n",
       "  </tbody>\n",
       "</table>\n",
       "</div>"
      ],
      "text/plain": [
       "     imdb_id  adult                     backdrop_path belongs_to_collection  \\\n",
       "2  tt0805647    0.0  /8rIoyM6zYXJNjzGseT3MRusMPWl.jpg                   NaN   \n",
       "3  tt0920462    0.0  /7GZ60FQuzejs73tfoBDFpCR21Iv.jpg                   NaN   \n",
       "5  tt0983946    0.0  /dzfiE2VHY362dGI62XfZ2iI87CT.jpg                   NaN   \n",
       "\n",
       "      budget                                             genres  \\\n",
       "2        0.0  [{'id': 10751, 'name': 'Family'}, {'id': 35, '...   \n",
       "3        0.0                      [{'id': 18, 'name': 'Drama'}]   \n",
       "5  7000000.0  [{'id': 27, 'name': 'Horror'}, {'id': 14, 'nam...   \n",
       "\n",
       "                               homepage        id original_language  \\\n",
       "2      https://www.thewitchesmovie.net/  531219.0                en   \n",
       "3  https://www.lostgirlslovehotels.film  479259.0                en   \n",
       "5                                   NaN  539537.0                en   \n",
       "\n",
       "             original_title  \\\n",
       "2  Roald Dahl's The Witches   \n",
       "3  Lost Girls & Love Hotels   \n",
       "5            Fantasy Island   \n",
       "\n",
       "                                            overview  popularity  \\\n",
       "2  In late 1967, a young orphaned boy goes to liv...      81.574   \n",
       "3  Searching for escape in Tokyo's back alleys, a...      18.454   \n",
       "5  A group of contest winners arrive at an island...      20.012   \n",
       "\n",
       "                        poster_path  \\\n",
       "2  /ht6EfsM5hrsUPSR4ReJQFDVU71F.jpg   \n",
       "3  /vQgXwuJrlpzGDI8169tRQRy71Nv.jpg   \n",
       "5  /8ZMrZGGW65ePWIgRn1260nA1uUm.jpg   \n",
       "\n",
       "                                production_companies  \\\n",
       "2  [{'id': 11395, 'logo_path': '/5vSBzUwnCcaF90ZT...   \n",
       "3  [{'id': 136892, 'logo_path': None, 'name': 'Wa...   \n",
       "5  [{'id': 3172, 'logo_path': '/rzKluDcRkIwHZK2pH...   \n",
       "\n",
       "                                production_countries release_date     revenue  \\\n",
       "2  [{'iso_3166_1': 'US', 'name': 'United States o...   2020-10-26  29303571.0   \n",
       "3  [{'iso_3166_1': 'JP', 'name': 'Japan'}, {'iso_...   2020-09-18    106045.0   \n",
       "5  [{'iso_3166_1': 'US', 'name': 'United States o...   2020-02-12  49500000.0   \n",
       "\n",
       "   runtime                                   spoken_languages    status  \\\n",
       "2    106.0  [{'english_name': 'English', 'iso_639_1': 'en'...  Released   \n",
       "3     97.0  [{'english_name': 'English', 'iso_639_1': 'en'...  Released   \n",
       "5    109.0  [{'english_name': 'English', 'iso_639_1': 'en'...  Released   \n",
       "\n",
       "             tagline                     title  video  vote_average  \\\n",
       "2      They're real!  Roald Dahl's The Witches    0.0         6.386   \n",
       "3                NaN  Lost Girls & Love Hotels    0.0         5.400   \n",
       "5  Never coming home            Fantasy Island    0.0         5.832   \n",
       "\n",
       "   vote_count certification  \n",
       "2      2623.0            PG  \n",
       "3       157.0             R  \n",
       "5      2281.0         PG-13  "
      ]
     },
     "execution_count": 15,
     "metadata": {},
     "output_type": "execute_result"
    }
   ],
   "source": [
    "nn = nn.dropna(subset=['certification', 'revenue'])\n",
    "nn.head(3)"
   ]
  },
  {
   "cell_type": "code",
   "execution_count": 16,
   "id": "d9bb0043-10cc-4fbf-8604-a1921755a6cc",
   "metadata": {},
   "outputs": [
    {
     "data": {
      "text/plain": [
       "dict_keys(['PG', 'R', 'PG-13', 'NR', 'NC-17', 'G'])"
      ]
     },
     "execution_count": 16,
     "metadata": {},
     "output_type": "execute_result"
    }
   ],
   "source": [
    "## Each group needs to be separated to be analyzed.\n",
    "groups = {}\n",
    "## Loop through all unique categories\n",
    "for i in nn['certification'].unique():\n",
    "    ## Get series for group and rename\n",
    "    data = nn.loc[nn['certification']==i,'revenue'].copy()\n",
    "    \n",
    "    # save into the dictionary\n",
    "    groups[i] = data\n",
    "groups.keys()"
   ]
  },
  {
   "cell_type": "code",
   "execution_count": 17,
   "id": "96a6f100-8cec-4043-aab5-61e1b817a054",
   "metadata": {},
   "outputs": [
    {
     "data": {
      "text/html": [
       "<div>\n",
       "<style scoped>\n",
       "    .dataframe tbody tr th:only-of-type {\n",
       "        vertical-align: middle;\n",
       "    }\n",
       "\n",
       "    .dataframe tbody tr th {\n",
       "        vertical-align: top;\n",
       "    }\n",
       "\n",
       "    .dataframe thead th {\n",
       "        text-align: right;\n",
       "    }\n",
       "</style>\n",
       "<table border=\"1\" class=\"dataframe\">\n",
       "  <thead>\n",
       "    <tr style=\"text-align: right;\">\n",
       "      <th></th>\n",
       "      <th>n</th>\n",
       "      <th>p</th>\n",
       "      <th>test stat</th>\n",
       "    </tr>\n",
       "  </thead>\n",
       "  <tbody>\n",
       "    <tr>\n",
       "      <th>PG</th>\n",
       "      <td>229.0</td>\n",
       "      <td>2.092989e-92</td>\n",
       "      <td>422.198470</td>\n",
       "    </tr>\n",
       "    <tr>\n",
       "      <th>R</th>\n",
       "      <td>858.0</td>\n",
       "      <td>5.935893e-265</td>\n",
       "      <td>1216.808064</td>\n",
       "    </tr>\n",
       "    <tr>\n",
       "      <th>PG-13</th>\n",
       "      <td>412.0</td>\n",
       "      <td>1.061288e-119</td>\n",
       "      <td>547.896286</td>\n",
       "    </tr>\n",
       "    <tr>\n",
       "      <th>NR</th>\n",
       "      <td>751.0</td>\n",
       "      <td>0.000000e+00</td>\n",
       "      <td>1748.188942</td>\n",
       "    </tr>\n",
       "    <tr>\n",
       "      <th>NC-17</th>\n",
       "      <td>31.0</td>\n",
       "      <td>7.642737e-17</td>\n",
       "      <td>74.220382</td>\n",
       "    </tr>\n",
       "    <tr>\n",
       "      <th>G</th>\n",
       "      <td>77.0</td>\n",
       "      <td>1.762845e-35</td>\n",
       "      <td>160.047098</td>\n",
       "    </tr>\n",
       "  </tbody>\n",
       "</table>\n",
       "</div>"
      ],
      "text/plain": [
       "           n              p    test stat\n",
       "PG     229.0   2.092989e-92   422.198470\n",
       "R      858.0  5.935893e-265  1216.808064\n",
       "PG-13  412.0  1.061288e-119   547.896286\n",
       "NR     751.0   0.000000e+00  1748.188942\n",
       "NC-17   31.0   7.642737e-17    74.220382\n",
       "G       77.0   1.762845e-35   160.047098"
      ]
     },
     "execution_count": 17,
     "metadata": {},
     "output_type": "execute_result"
    }
   ],
   "source": [
    "## Running normal test on each group and confirming there are >20 in each group\n",
    "norm_results = {}\n",
    "for i, data in groups.items():\n",
    "    stat, p = stats.normaltest(data)\n",
    "    ## save the p val, test statistic, and the size of the group\n",
    "    norm_results[i] = {'n': len(data),\n",
    "                             'p':p,\n",
    "                             'test stat':stat,}\n",
    "## convert to a dataframe\n",
    "norm_results_df = pd.DataFrame(norm_results).T\n",
    "norm_results_df"
   ]
  },
  {
   "cell_type": "code",
   "execution_count": 18,
   "id": "9dc3921b-9058-419c-900c-94945ad0b2d9",
   "metadata": {},
   "outputs": [
    {
     "data": {
      "text/html": [
       "<div>\n",
       "<style scoped>\n",
       "    .dataframe tbody tr th:only-of-type {\n",
       "        vertical-align: middle;\n",
       "    }\n",
       "\n",
       "    .dataframe tbody tr th {\n",
       "        vertical-align: top;\n",
       "    }\n",
       "\n",
       "    .dataframe thead th {\n",
       "        text-align: right;\n",
       "    }\n",
       "</style>\n",
       "<table border=\"1\" class=\"dataframe\">\n",
       "  <thead>\n",
       "    <tr style=\"text-align: right;\">\n",
       "      <th></th>\n",
       "      <th>n</th>\n",
       "      <th>p</th>\n",
       "      <th>test stat</th>\n",
       "      <th>sig</th>\n",
       "    </tr>\n",
       "  </thead>\n",
       "  <tbody>\n",
       "    <tr>\n",
       "      <th>PG</th>\n",
       "      <td>229.0</td>\n",
       "      <td>2.092989e-92</td>\n",
       "      <td>422.198470</td>\n",
       "      <td>True</td>\n",
       "    </tr>\n",
       "    <tr>\n",
       "      <th>R</th>\n",
       "      <td>858.0</td>\n",
       "      <td>5.935893e-265</td>\n",
       "      <td>1216.808064</td>\n",
       "      <td>True</td>\n",
       "    </tr>\n",
       "    <tr>\n",
       "      <th>PG-13</th>\n",
       "      <td>412.0</td>\n",
       "      <td>1.061288e-119</td>\n",
       "      <td>547.896286</td>\n",
       "      <td>True</td>\n",
       "    </tr>\n",
       "    <tr>\n",
       "      <th>NR</th>\n",
       "      <td>751.0</td>\n",
       "      <td>0.000000e+00</td>\n",
       "      <td>1748.188942</td>\n",
       "      <td>True</td>\n",
       "    </tr>\n",
       "    <tr>\n",
       "      <th>NC-17</th>\n",
       "      <td>31.0</td>\n",
       "      <td>7.642737e-17</td>\n",
       "      <td>74.220382</td>\n",
       "      <td>True</td>\n",
       "    </tr>\n",
       "    <tr>\n",
       "      <th>G</th>\n",
       "      <td>77.0</td>\n",
       "      <td>1.762845e-35</td>\n",
       "      <td>160.047098</td>\n",
       "      <td>True</td>\n",
       "    </tr>\n",
       "  </tbody>\n",
       "</table>\n",
       "</div>"
      ],
      "text/plain": [
       "           n              p    test stat   sig\n",
       "PG     229.0   2.092989e-92   422.198470  True\n",
       "R      858.0  5.935893e-265  1216.808064  True\n",
       "PG-13  412.0  1.061288e-119   547.896286  True\n",
       "NR     751.0   0.000000e+00  1748.188942  True\n",
       "NC-17   31.0   7.642737e-17    74.220382  True\n",
       "G       77.0   1.762845e-35   160.047098  True"
      ]
     },
     "execution_count": 18,
     "metadata": {},
     "output_type": "execute_result"
    }
   ],
   "source": [
    "### checking sig with pandas \n",
    "norm_results_df['sig'] = norm_results_df['p'] < .05 \n",
    "norm_results_df"
   ]
  },
  {
   "cell_type": "code",
   "execution_count": 19,
   "id": "ac99162a-a276-47a7-8635-4df93e1c92e3",
   "metadata": {},
   "outputs": [
    {
     "data": {
      "text/plain": [
       "F_onewayResult(statistic=14.071340519428864, pvalue=1.3865025240587552e-13)"
      ]
     },
     "execution_count": 19,
     "metadata": {},
     "output_type": "execute_result"
    }
   ],
   "source": [
    "# perform the correct hypothesis test\n",
    "result = stats.f_oneway( *groups.values())\n",
    "result"
   ]
  },
  {
   "cell_type": "markdown",
   "id": "50416412-bdbe-4f7d-a803-b31a31b0a6af",
   "metadata": {},
   "source": [
    "### With ANOVA giving us a significant result, we can use tukey to perform comparison tests for each group"
   ]
  },
  {
   "cell_type": "code",
   "execution_count": 20,
   "id": "c368b469-abfb-4b82-90c1-f33b0ab078d2",
   "metadata": {},
   "outputs": [],
   "source": [
    "from statsmodels.stats.multicomp import pairwise_tukeyhsd\n",
    "## save the values as kg_lost and the labels to the Diet\n",
    "values = nn['revenue']\n",
    "labels = nn['certification']"
   ]
  },
  {
   "cell_type": "code",
   "execution_count": 62,
   "id": "97345df6-2cae-4537-9f94-6e43f8f29cd0",
   "metadata": {},
   "outputs": [
    {
     "data": {
      "text/html": [
       "<table class=\"simpletable\">\n",
       "<caption>Multiple Comparison of Means - Tukey HSD, FWER=0.05</caption>\n",
       "<tr>\n",
       "  <th>group1</th> <th>group2</th>    <th>meandiff</th>     <th>p-adj</th>      <th>lower</th>          <th>upper</th>     <th>reject</th>\n",
       "</tr>\n",
       "<tr>\n",
       "     <td>G</td>    <td>NC-17</td>  <td>-2740978.0968</td>   <td>1.0</td>  <td>-59646029.8548</td>  <td>54164073.6613</td>  <td>False</td>\n",
       "</tr>\n",
       "<tr>\n",
       "     <td>G</td>     <td>NR</td>    <td>-841582.9561</td>    <td>1.0</td>  <td>-32853743.9055</td>  <td>31170577.9934</td>  <td>False</td>\n",
       "</tr>\n",
       "<tr>\n",
       "     <td>G</td>     <td>PG</td>    <td>34848766.0568</td> <td>0.0546</td>  <td>-393413.8547</td>   <td>70090945.9683</td>  <td>False</td>\n",
       "</tr>\n",
       "<tr>\n",
       "     <td>G</td>    <td>PG-13</td>  <td>39640431.1019</td> <td>0.0088</td>  <td>6426092.1432</td>   <td>72854770.0606</td>  <td>True</td> \n",
       "</tr>\n",
       "<tr>\n",
       "     <td>G</td>      <td>R</td>     <td>4908056.986</td>  <td>0.9979</td> <td>-26917935.3146</td>  <td>36734049.2866</td>  <td>False</td>\n",
       "</tr>\n",
       "<tr>\n",
       "   <td>NC-17</td>   <td>NR</td>    <td>1899395.1407</td>    <td>1.0</td>  <td>-47131262.1784</td>  <td>50930052.4598</td>  <td>False</td>\n",
       "</tr>\n",
       "<tr>\n",
       "   <td>NC-17</td>   <td>PG</td>    <td>37589744.1535</td> <td>0.2907</td> <td>-13608284.6504</td>  <td>88787772.9574</td>  <td>False</td>\n",
       "</tr>\n",
       "<tr>\n",
       "   <td>NC-17</td>  <td>PG-13</td>  <td>42381409.1987</td> <td>0.1476</td>  <td>-7442472.8354</td>  <td>92205291.2329</td>  <td>False</td>\n",
       "</tr>\n",
       "<tr>\n",
       "   <td>NC-17</td>    <td>R</td>    <td>7649035.0828</td>  <td>0.9978</td> <td>-41260275.8345</td>  <td>56558346.0001</td>  <td>False</td>\n",
       "</tr>\n",
       "<tr>\n",
       "    <td>NR</td>     <td>PG</td>    <td>35690349.0128</td>   <td>0.0</td>   <td>15495505.9465</td>  <td>55885192.0791</td>  <td>True</td> \n",
       "</tr>\n",
       "<tr>\n",
       "    <td>NR</td>    <td>PG-13</td>  <td>40482014.058</td>    <td>0.0</td>   <td>24080405.7826</td>  <td>56883622.3334</td>  <td>True</td> \n",
       "</tr>\n",
       "<tr>\n",
       "    <td>NR</td>      <td>R</td>    <td>5749639.9421</td>  <td>0.8239</td>  <td>-7618764.1315</td>  <td>19118044.0156</td>  <td>False</td>\n",
       "</tr>\n",
       "<tr>\n",
       "    <td>PG</td>    <td>PG-13</td>  <td>4791665.0452</td>  <td>0.9896</td> <td>-17259311.1301</td>  <td>26842641.2205</td>  <td>False</td>\n",
       "</tr>\n",
       "<tr>\n",
       "    <td>PG</td>      <td>R</td>   <td>-29940709.0708</td> <td>0.0003</td> <td>-49839126.6897</td> <td>-10042291.4518</td>  <td>True</td> \n",
       "</tr>\n",
       "<tr>\n",
       "   <td>PG-13</td>    <td>R</td>   <td>-34732374.1159</td>   <td>0.0</td>  <td>-50767588.2176</td> <td>-18697160.0143</td>  <td>True</td> \n",
       "</tr>\n",
       "</table>"
      ],
      "text/latex": [
       "\\begin{center}\n",
       "\\begin{tabular}{ccccccc}\n",
       "\\toprule\n",
       "\\textbf{group1} & \\textbf{group2} & \\textbf{meandiff} & \\textbf{p-adj} & \\textbf{lower} & \\textbf{upper} & \\textbf{reject}  \\\\\n",
       "\\midrule\n",
       "       G        &      NC-17      &   -2740978.0968   &      1.0       & -59646029.8548 & 54164073.6613  &      False       \\\\\n",
       "       G        &        NR       &    -841582.9561   &      1.0       & -32853743.9055 & 31170577.9934  &      False       \\\\\n",
       "       G        &        PG       &   34848766.0568   &     0.0546     &  -393413.8547  & 70090945.9683  &      False       \\\\\n",
       "       G        &      PG-13      &   39640431.1019   &     0.0088     &  6426092.1432  & 72854770.0606  &       True       \\\\\n",
       "       G        &        R        &    4908056.986    &     0.9979     & -26917935.3146 & 36734049.2866  &      False       \\\\\n",
       "     NC-17      &        NR       &    1899395.1407   &      1.0       & -47131262.1784 & 50930052.4598  &      False       \\\\\n",
       "     NC-17      &        PG       &   37589744.1535   &     0.2907     & -13608284.6504 & 88787772.9574  &      False       \\\\\n",
       "     NC-17      &      PG-13      &   42381409.1987   &     0.1476     & -7442472.8354  & 92205291.2329  &      False       \\\\\n",
       "     NC-17      &        R        &    7649035.0828   &     0.9978     & -41260275.8345 & 56558346.0001  &      False       \\\\\n",
       "       NR       &        PG       &   35690349.0128   &      0.0       & 15495505.9465  & 55885192.0791  &       True       \\\\\n",
       "       NR       &      PG-13      &    40482014.058   &      0.0       & 24080405.7826  & 56883622.3334  &       True       \\\\\n",
       "       NR       &        R        &    5749639.9421   &     0.8239     & -7618764.1315  & 19118044.0156  &      False       \\\\\n",
       "       PG       &      PG-13      &    4791665.0452   &     0.9896     & -17259311.1301 & 26842641.2205  &      False       \\\\\n",
       "       PG       &        R        &   -29940709.0708  &     0.0003     & -49839126.6897 & -10042291.4518 &       True       \\\\\n",
       "     PG-13      &        R        &   -34732374.1159  &      0.0       & -50767588.2176 & -18697160.0143 &       True       \\\\\n",
       "\\bottomrule\n",
       "\\end{tabular}\n",
       "%\\caption{Multiple Comparison of Means - Tukey HSD, FWER=0.05}\n",
       "\\end{center}"
      ],
      "text/plain": [
       "<class 'statsmodels.iolib.table.SimpleTable'>"
      ]
     },
     "execution_count": 62,
     "metadata": {},
     "output_type": "execute_result"
    }
   ],
   "source": [
    "## perform tukey's multiple comparison test and display the summary\n",
    "tukeys_results = pairwise_tukeyhsd(values,labels)\n",
    "tukeys_results.summary()"
   ]
  },
  {
   "cell_type": "code",
   "execution_count": null,
   "id": "63c21706-3684-4b53-80ef-7c0c47cea286",
   "metadata": {},
   "outputs": [],
   "source": [
    "#"
   ]
  },
  {
   "cell_type": "markdown",
   "id": "841bdca8-8533-4e58-8a46-0bc85d515630",
   "metadata": {},
   "source": [
    "##### We can see several significant results between MPAA ratings like PG-13 outperforming R, PG, NR and G. \n",
    "##### Not Rated trends poorly against PG and PG-13. While NC-17 doesn't have good revenue, the differences are not considered significant"
   ]
  },
  {
   "cell_type": "markdown",
   "id": "1d9202ff-ffb3-4cdb-9112-64e564fa6271",
   "metadata": {},
   "source": [
    "2. Do movies that are over 2.5 hours long earn more revenue than movies that are 1.5 hours long (or less)?"
   ]
  },
  {
   "cell_type": "code",
   "execution_count": 13,
   "id": "dbd552c2-c63b-4663-aada-d2ba9203390f",
   "metadata": {},
   "outputs": [
    {
     "data": {
      "image/png": "[encoded data removed]",
      "text/plain": [
       "<Figure size 640x480 with 1 Axes>"
      ]
     },
     "metadata": {},
     "output_type": "display_data"
    }
   ],
   "source": [
    "# Visualizing revenue by runtime\n",
    "sns.scatterplot(df, x='runtime', y='revenue');"
   ]
  },
  {
   "cell_type": "code",
   "execution_count": 16,
   "id": "c2797c7e-907b-4f8a-9440-b036f9a80f54",
   "metadata": {},
   "outputs": [],
   "source": [
    "# Filtering films into dfs of long and short movies\n",
    "long_df = df.loc[df['runtime'] >= 150].copy()\n",
    "short_df = df.loc[df['runtime']<= 90].copy()"
   ]
  },
  {
   "cell_type": "code",
   "execution_count": 17,
   "id": "86747884-a712-4805-91b2-3ffbc73627f2",
   "metadata": {},
   "outputs": [],
   "source": [
    "# Now defining revenue dfs\n",
    "long_r = long_df['revenue']\n",
    "short_r = short_df['revenue']"
   ]
  },
  {
   "cell_type": "code",
   "execution_count": 18,
   "id": "711e0aa5-1d48-453d-ac4b-b3788fde1bb1",
   "metadata": {},
   "outputs": [
    {
     "data": {
      "text/plain": [
       "6"
      ]
     },
     "execution_count": 18,
     "metadata": {},
     "output_type": "execute_result"
    }
   ],
   "source": [
    "# Check for outliers in long film revenue\n",
    "zscores= stats.zscore(long_r)\n",
    "outliers = abs(zscores)>3\n",
    "np.sum(outliers)"
   ]
  },
  {
   "cell_type": "code",
   "execution_count": 19,
   "id": "698aebf0-f9ff-4087-92a0-fd380c161736",
   "metadata": {},
   "outputs": [],
   "source": [
    "# remove outliers from strength group\n",
    "long_r = long_r[(np.abs(stats.zscore(long_r)) < 3)]"
   ]
  },
  {
   "cell_type": "code",
   "execution_count": 20,
   "id": "666ddc3d-6ad2-4ef0-ab89-ca2745e5289a",
   "metadata": {},
   "outputs": [
    {
     "data": {
      "text/plain": [
       "6"
      ]
     },
     "execution_count": 20,
     "metadata": {},
     "output_type": "execute_result"
    }
   ],
   "source": [
    "# Checking same for short films\n",
    "zscores= stats.zscore(short_r)\n",
    "np.sum(outliers)"
   ]
  },
  {
   "cell_type": "code",
   "execution_count": 21,
   "id": "f5d46ab0-f2f4-4002-85f3-dba898aed80e",
   "metadata": {},
   "outputs": [],
   "source": [
    "# remove outliers\n",
    "short_r = short_r[(np.abs(stats.zscore(short_r)) < 3)]"
   ]
  },
  {
   "cell_type": "code",
   "execution_count": 22,
   "id": "68778884-19a0-4665-8bbb-43838f04b7fe",
   "metadata": {},
   "outputs": [
    {
     "data": {
      "text/plain": [
       "LeveneResult(statistic=180.65121510190667, pvalue=1.600384568540331e-40)"
      ]
     },
     "execution_count": 22,
     "metadata": {},
     "output_type": "execute_result"
    }
   ],
   "source": [
    "# Test for equal variance\n",
    "result = stats.levene(long_r, short_r)\n",
    "result"
   ]
  },
  {
   "cell_type": "code",
   "execution_count": 23,
   "id": "a968b835-d65b-43c2-a273-49b55126a206",
   "metadata": {},
   "outputs": [
    {
     "data": {
      "text/plain": [
       "Ttest_indResult(statistic=3.23044895753983, pvalue=0.001379674243067649)"
      ]
     },
     "execution_count": 23,
     "metadata": {},
     "output_type": "execute_result"
    }
   ],
   "source": [
    "# Independent t-test with equal_var set to False\n",
    "result = stats.ttest_ind(long_r, short_r, equal_var = False)\n",
    "result"
   ]
  },
  {
   "cell_type": "markdown",
   "id": "535a318f-2426-4038-8c3f-238cce51cb34",
   "metadata": {},
   "source": [
    "##### With pvalue far less than 0.05 we have a significant result and can reject null"
   ]
  },
  {
   "cell_type": "markdown",
   "id": "efd3a69f-9a81-4433-b998-ec60f49fccdb",
   "metadata": {},
   "source": [
    "3. Do different certifications trend to different popularity numbers?"
   ]
  },
  {
   "cell_type": "code",
   "execution_count": 65,
   "id": "551751ed-90ad-4119-9197-a3644b9e2985",
   "metadata": {},
   "outputs": [
    {
     "data": {
      "image/png": "[encoded data removed]",
      "text/plain": [
       "<Figure size 640x480 with 1 Axes>"
      ]
     },
     "metadata": {},
     "output_type": "display_data"
    }
   ],
   "source": [
    "# Making barplot to get a glimpse at correlation\n",
    "sns.barplot(nn, x='certification', y='popularity');"
   ]
  },
  {
   "cell_type": "code",
   "execution_count": 66,
   "id": "6b909dbb-2a44-42b7-b726-c961bcbb7d54",
   "metadata": {},
   "outputs": [
    {
     "data": {
      "text/plain": [
       "dict_keys(['PG', 'R', 'PG-13', 'NR', 'NC-17', 'G'])"
      ]
     },
     "execution_count": 66,
     "metadata": {},
     "output_type": "execute_result"
    }
   ],
   "source": [
    "# There does seem to be correlations though how significant will have to be determined\n",
    "# It's another ANOVA problem with certifications so we can use our copied df to keep nulls out\n",
    "groups = {}\n",
    "## Loop through all unique categories\n",
    "for i in nn['certification'].unique():\n",
    "    ## Get series for group and rename\n",
    "    data = nn.loc[nn['certification']==i,'popularity'].copy()\n",
    "    \n",
    "    # save into the dictionary\n",
    "    groups[i] = data\n",
    "groups.keys()"
   ]
  },
  {
   "cell_type": "code",
   "execution_count": 67,
   "id": "07ea4b9a-52c7-4e83-8737-b4f223e54e4f",
   "metadata": {},
   "outputs": [
    {
     "data": {
      "text/html": [
       "<div>\n",
       "<style scoped>\n",
       "    .dataframe tbody tr th:only-of-type {\n",
       "        vertical-align: middle;\n",
       "    }\n",
       "\n",
       "    .dataframe tbody tr th {\n",
       "        vertical-align: top;\n",
       "    }\n",
       "\n",
       "    .dataframe thead th {\n",
       "        text-align: right;\n",
       "    }\n",
       "</style>\n",
       "<table border=\"1\" class=\"dataframe\">\n",
       "  <thead>\n",
       "    <tr style=\"text-align: right;\">\n",
       "      <th></th>\n",
       "      <th>n</th>\n",
       "      <th>p</th>\n",
       "      <th>test stat</th>\n",
       "    </tr>\n",
       "  </thead>\n",
       "  <tbody>\n",
       "    <tr>\n",
       "      <th>PG</th>\n",
       "      <td>229.0</td>\n",
       "      <td>1.708561e-45</td>\n",
       "      <td>206.161355</td>\n",
       "    </tr>\n",
       "    <tr>\n",
       "      <th>R</th>\n",
       "      <td>858.0</td>\n",
       "      <td>0.000000e+00</td>\n",
       "      <td>1512.988197</td>\n",
       "    </tr>\n",
       "    <tr>\n",
       "      <th>PG-13</th>\n",
       "      <td>412.0</td>\n",
       "      <td>4.591875e-68</td>\n",
       "      <td>310.102996</td>\n",
       "    </tr>\n",
       "    <tr>\n",
       "      <th>NR</th>\n",
       "      <td>751.0</td>\n",
       "      <td>0.000000e+00</td>\n",
       "      <td>1471.868714</td>\n",
       "    </tr>\n",
       "    <tr>\n",
       "      <th>NC-17</th>\n",
       "      <td>31.0</td>\n",
       "      <td>3.424175e-13</td>\n",
       "      <td>57.405491</td>\n",
       "    </tr>\n",
       "    <tr>\n",
       "      <th>G</th>\n",
       "      <td>77.0</td>\n",
       "      <td>3.826377e-18</td>\n",
       "      <td>80.209226</td>\n",
       "    </tr>\n",
       "  </tbody>\n",
       "</table>\n",
       "</div>"
      ],
      "text/plain": [
       "           n             p    test stat\n",
       "PG     229.0  1.708561e-45   206.161355\n",
       "R      858.0  0.000000e+00  1512.988197\n",
       "PG-13  412.0  4.591875e-68   310.102996\n",
       "NR     751.0  0.000000e+00  1471.868714\n",
       "NC-17   31.0  3.424175e-13    57.405491\n",
       "G       77.0  3.826377e-18    80.209226"
      ]
     },
     "execution_count": 67,
     "metadata": {},
     "output_type": "execute_result"
    }
   ],
   "source": [
    "## Running normal test on each group and confirming there are >20 in each group\n",
    "norm_results = {}\n",
    "for i, data in groups.items():\n",
    "    stat, p = stats.normaltest(data)\n",
    "    ## save the p val, test statistic, and the size of the group\n",
    "    norm_results[i] = {'n': len(data),\n",
    "                             'p':p,\n",
    "                             'test stat':stat,}\n",
    "## convert to a dataframe\n",
    "norm_results_df = pd.DataFrame(norm_results).T\n",
    "norm_results_df"
   ]
  },
  {
   "cell_type": "code",
   "execution_count": 68,
   "id": "5ec72bd9-fe2f-4554-b9f4-cbaf729530d3",
   "metadata": {},
   "outputs": [
    {
     "data": {
      "text/html": [
       "<div>\n",
       "<style scoped>\n",
       "    .dataframe tbody tr th:only-of-type {\n",
       "        vertical-align: middle;\n",
       "    }\n",
       "\n",
       "    .dataframe tbody tr th {\n",
       "        vertical-align: top;\n",
       "    }\n",
       "\n",
       "    .dataframe thead th {\n",
       "        text-align: right;\n",
       "    }\n",
       "</style>\n",
       "<table border=\"1\" class=\"dataframe\">\n",
       "  <thead>\n",
       "    <tr style=\"text-align: right;\">\n",
       "      <th></th>\n",
       "      <th>n</th>\n",
       "      <th>p</th>\n",
       "      <th>test stat</th>\n",
       "      <th>sig</th>\n",
       "    </tr>\n",
       "  </thead>\n",
       "  <tbody>\n",
       "    <tr>\n",
       "      <th>PG</th>\n",
       "      <td>229.0</td>\n",
       "      <td>1.708561e-45</td>\n",
       "      <td>206.161355</td>\n",
       "      <td>True</td>\n",
       "    </tr>\n",
       "    <tr>\n",
       "      <th>R</th>\n",
       "      <td>858.0</td>\n",
       "      <td>0.000000e+00</td>\n",
       "      <td>1512.988197</td>\n",
       "      <td>True</td>\n",
       "    </tr>\n",
       "    <tr>\n",
       "      <th>PG-13</th>\n",
       "      <td>412.0</td>\n",
       "      <td>4.591875e-68</td>\n",
       "      <td>310.102996</td>\n",
       "      <td>True</td>\n",
       "    </tr>\n",
       "    <tr>\n",
       "      <th>NR</th>\n",
       "      <td>751.0</td>\n",
       "      <td>0.000000e+00</td>\n",
       "      <td>1471.868714</td>\n",
       "      <td>True</td>\n",
       "    </tr>\n",
       "    <tr>\n",
       "      <th>NC-17</th>\n",
       "      <td>31.0</td>\n",
       "      <td>3.424175e-13</td>\n",
       "      <td>57.405491</td>\n",
       "      <td>True</td>\n",
       "    </tr>\n",
       "    <tr>\n",
       "      <th>G</th>\n",
       "      <td>77.0</td>\n",
       "      <td>3.826377e-18</td>\n",
       "      <td>80.209226</td>\n",
       "      <td>True</td>\n",
       "    </tr>\n",
       "  </tbody>\n",
       "</table>\n",
       "</div>"
      ],
      "text/plain": [
       "           n             p    test stat   sig\n",
       "PG     229.0  1.708561e-45   206.161355  True\n",
       "R      858.0  0.000000e+00  1512.988197  True\n",
       "PG-13  412.0  4.591875e-68   310.102996  True\n",
       "NR     751.0  0.000000e+00  1471.868714  True\n",
       "NC-17   31.0  3.424175e-13    57.405491  True\n",
       "G       77.0  3.826377e-18    80.209226  True"
      ]
     },
     "execution_count": 68,
     "metadata": {},
     "output_type": "execute_result"
    }
   ],
   "source": [
    "### checking sig with pandas \n",
    "norm_results_df['sig'] = norm_results_df['p'] < .05 \n",
    "norm_results_df"
   ]
  },
  {
   "cell_type": "code",
   "execution_count": 69,
   "id": "aeeb0269-e659-4ee0-afd1-b95f4f7a507c",
   "metadata": {},
   "outputs": [
    {
     "data": {
      "text/plain": [
       "F_onewayResult(statistic=28.049390627205746, pvalue=1.0878058531529535e-27)"
      ]
     },
     "execution_count": 69,
     "metadata": {},
     "output_type": "execute_result"
    }
   ],
   "source": [
    "# perform the correct hypothesis test\n",
    "result = stats.f_oneway( *groups.values())\n",
    "result"
   ]
  },
  {
   "cell_type": "code",
   "execution_count": 70,
   "id": "7bd7e400-0077-4b3e-a3b1-973b5a91cb2f",
   "metadata": {},
   "outputs": [],
   "source": [
    "# Definitely significant.\n",
    "values = nn['popularity']\n",
    "# labels is same as in first problem"
   ]
  },
  {
   "cell_type": "code",
   "execution_count": 71,
   "id": "351acefa-ced0-46ca-9b59-6dfc9cb6b1ea",
   "metadata": {},
   "outputs": [
    {
     "data": {
      "text/html": [
       "<table class=\"simpletable\">\n",
       "<caption>Multiple Comparison of Means - Tukey HSD, FWER=0.05</caption>\n",
       "<tr>\n",
       "  <th>group1</th> <th>group2</th> <th>meandiff</th>  <th>p-adj</th>   <th>lower</th>   <th>upper</th>  <th>reject</th>\n",
       "</tr>\n",
       "<tr>\n",
       "     <td>G</td>    <td>NC-17</td>  <td>-6.8227</td>  <td>0.913</td> <td>-25.9886</td> <td>12.3432</td>  <td>False</td>\n",
       "</tr>\n",
       "<tr>\n",
       "     <td>G</td>     <td>NR</td>    <td>-6.0871</td> <td>0.5918</td>  <td>-16.869</td> <td>4.6948</td>   <td>False</td>\n",
       "</tr>\n",
       "<tr>\n",
       "     <td>G</td>     <td>PG</td>    <td>14.5457</td> <td>0.0064</td>   <td>2.676</td>  <td>26.4155</td>  <td>True</td> \n",
       "</tr>\n",
       "<tr>\n",
       "     <td>G</td>    <td>PG-13</td>  <td>10.2219</td> <td>0.0961</td>  <td>-0.9649</td> <td>21.4087</td>  <td>False</td>\n",
       "</tr>\n",
       "<tr>\n",
       "     <td>G</td>      <td>R</td>    <td>8.5102</td>  <td>0.2092</td>  <td>-2.209</td>  <td>19.2294</td>  <td>False</td>\n",
       "</tr>\n",
       "<tr>\n",
       "   <td>NC-17</td>   <td>NR</td>    <td>0.7356</td>    <td>1.0</td>  <td>-15.7782</td> <td>17.2494</td>  <td>False</td>\n",
       "</tr>\n",
       "<tr>\n",
       "   <td>NC-17</td>   <td>PG</td>    <td>21.3684</td> <td>0.0056</td>  <td>4.1247</td>  <td>38.6122</td>  <td>True</td> \n",
       "</tr>\n",
       "<tr>\n",
       "   <td>NC-17</td>  <td>PG-13</td>  <td>17.0446</td>  <td>0.044</td>  <td>0.2637</td>  <td>33.8256</td>  <td>True</td> \n",
       "</tr>\n",
       "<tr>\n",
       "   <td>NC-17</td>    <td>R</td>    <td>15.3329</td>  <td>0.085</td>   <td>-1.14</td>  <td>31.8058</td>  <td>False</td>\n",
       "</tr>\n",
       "<tr>\n",
       "    <td>NR</td>     <td>PG</td>    <td>20.6328</td>   <td>0.0</td>   <td>13.8311</td> <td>27.4345</td>  <td>True</td> \n",
       "</tr>\n",
       "<tr>\n",
       "    <td>NR</td>    <td>PG-13</td>  <td>16.309</td>    <td>0.0</td>   <td>10.7848</td> <td>21.8331</td>  <td>True</td> \n",
       "</tr>\n",
       "<tr>\n",
       "    <td>NR</td>      <td>R</td>    <td>14.5973</td>   <td>0.0</td>   <td>10.0947</td> <td>19.0998</td>  <td>True</td> \n",
       "</tr>\n",
       "<tr>\n",
       "    <td>PG</td>    <td>PG-13</td>  <td>-4.3238</td> <td>0.5583</td> <td>-11.7507</td> <td>3.1031</td>   <td>False</td>\n",
       "</tr>\n",
       "<tr>\n",
       "    <td>PG</td>      <td>R</td>    <td>-6.0355</td> <td>0.1055</td> <td>-12.7374</td> <td>0.6664</td>   <td>False</td>\n",
       "</tr>\n",
       "<tr>\n",
       "   <td>PG-13</td>    <td>R</td>    <td>-1.7117</td> <td>0.9456</td>  <td>-7.1125</td>  <td>3.689</td>   <td>False</td>\n",
       "</tr>\n",
       "</table>"
      ],
      "text/latex": [
       "\\begin{center}\n",
       "\\begin{tabular}{ccccccc}\n",
       "\\toprule\n",
       "\\textbf{group1} & \\textbf{group2} & \\textbf{meandiff} & \\textbf{p-adj} & \\textbf{lower} & \\textbf{upper} & \\textbf{reject}  \\\\\n",
       "\\midrule\n",
       "       G        &      NC-17      &      -6.8227      &     0.913      &    -25.9886    &    12.3432     &      False       \\\\\n",
       "       G        &        NR       &      -6.0871      &     0.5918     &    -16.869     &     4.6948     &      False       \\\\\n",
       "       G        &        PG       &      14.5457      &     0.0064     &     2.676      &    26.4155     &       True       \\\\\n",
       "       G        &      PG-13      &      10.2219      &     0.0961     &    -0.9649     &    21.4087     &      False       \\\\\n",
       "       G        &        R        &       8.5102      &     0.2092     &     -2.209     &    19.2294     &      False       \\\\\n",
       "     NC-17      &        NR       &       0.7356      &      1.0       &    -15.7782    &    17.2494     &      False       \\\\\n",
       "     NC-17      &        PG       &      21.3684      &     0.0056     &     4.1247     &    38.6122     &       True       \\\\\n",
       "     NC-17      &      PG-13      &      17.0446      &     0.044      &     0.2637     &    33.8256     &       True       \\\\\n",
       "     NC-17      &        R        &      15.3329      &     0.085      &     -1.14      &    31.8058     &      False       \\\\\n",
       "       NR       &        PG       &      20.6328      &      0.0       &    13.8311     &    27.4345     &       True       \\\\\n",
       "       NR       &      PG-13      &       16.309      &      0.0       &    10.7848     &    21.8331     &       True       \\\\\n",
       "       NR       &        R        &      14.5973      &      0.0       &    10.0947     &    19.0998     &       True       \\\\\n",
       "       PG       &      PG-13      &      -4.3238      &     0.5583     &    -11.7507    &     3.1031     &      False       \\\\\n",
       "       PG       &        R        &      -6.0355      &     0.1055     &    -12.7374    &     0.6664     &      False       \\\\\n",
       "     PG-13      &        R        &      -1.7117      &     0.9456     &    -7.1125     &     3.689      &      False       \\\\\n",
       "\\bottomrule\n",
       "\\end{tabular}\n",
       "%\\caption{Multiple Comparison of Means - Tukey HSD, FWER=0.05}\n",
       "\\end{center}"
      ],
      "text/plain": [
       "<class 'statsmodels.iolib.table.SimpleTable'>"
      ]
     },
     "execution_count": 71,
     "metadata": {},
     "output_type": "execute_result"
    }
   ],
   "source": [
    "## perform tukey's multiple comparison test and display the summary\n",
    "tukeys_results = pairwise_tukeyhsd(values,labels)\n",
    "tukeys_results.summary()"
   ]
  },
  {
   "cell_type": "markdown",
   "id": "8708e161-22c1-4830-99c7-dd0f5918752f",
   "metadata": {},
   "source": [
    "##### That's a lot to unpack. PG has a significant popularity boost over G, NC-17, and NR. PG-13 enjoys popularity over NC-17 and NR.\n",
    "##### G as a rating is in the middle and not significantly different except to PG. NC-17 and NR trend poorly, perhaps unsurprisingly."
   ]
  }
 ],
 "metadata": {
  "kernelspec": {
   "display_name": "Python 3 (ipykernel)",
   "language": "python",
   "name": "python3"
  },
  "language_info": {
   "codemirror_mode": {
    "name": "ipython",
    "version": 3
   },
   "file_extension": ".py",
   "mimetype": "text/x-python",
   "name": "python",
   "nbconvert_exporter": "python",
   "pygments_lexer": "ipython3",
   "version": "3.10.10"
  },
  "widgets": {
   "application/vnd.jupyter.widget-state+json": {
    "state": {},
    "version_major": 2,
    "version_minor": 0
   }
  }
 },
 "nbformat": 4,
 "nbformat_minor": 5
}
